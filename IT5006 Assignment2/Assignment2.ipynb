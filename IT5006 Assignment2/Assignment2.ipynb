{
 "cells": [
  {
   "cell_type": "markdown",
   "metadata": {},
   "source": [
    "# Assignment 2: Predictive Maintenance"
   ]
  },
  {
   "cell_type": "markdown",
   "metadata": {},
   "source": [
    "## Instructions to submit the assignment\n",
    "\n",
    "- Rename your jupyter notebook as `Assignment2_[StudentID].ipynb` (e.g. `Assignment2_A0123873.ipynb`) for submission.\n",
    "- Write your code in the codeblocks provided after respective questions.\n",
    "- While submitting your notebook, please run the code. Submit without deleting your outputs.\n",
    "- This is an individual assignment. Write your own answers and refrain from working in groups."
   ]
  },
  {
   "cell_type": "markdown",
   "metadata": {},
   "source": [
    "`sklearn` provides a modular way of designing data pipelines. It enables us to automate the process of data processing, perfomance assessement as well as model validation. In this assignment, we will design a simple data pipeline to implement a simple classifier. We further invesitgate generalisability of the model and work on model selection procedure.\n",
    "\n",
    "Let's start with importing necessary libraries!"
   ]
  },
  {
   "cell_type": "code",
   "execution_count": 15,
   "metadata": {},
   "outputs": [],
   "source": [
    "import pandas as pd\n",
    "import matplotlib.pyplot as plt\n",
    "import numpy as np"
   ]
  },
  {
   "cell_type": "markdown",
   "metadata": {},
   "source": [
    "We deal with multiple sources of randomness during data analytics. It can be induced via data sampling or it can be induced via a learning algorithm. The reproucibility of the experiments becomes the key issue. We can overcome the reproducibility problem by setting the `seed` for (pseudo-)random number generators. You can read more about this [here](https://stackoverflow.com/questions/28064634/random-state-pseudo-random-number-in-scikit-learn).\n",
    "\n",
    "Let's initialise the random state for our experiment. Every machine learning model in `sklearn` takes the random-state as one of its argument. Use `rng` wherever required."
   ]
  },
  {
   "cell_type": "code",
   "execution_count": 16,
   "metadata": {},
   "outputs": [],
   "source": [
    "rng = np.random.RandomState(42)  # Use this as a random_state input for machine learning models"
   ]
  },
  {
   "cell_type": "markdown",
   "metadata": {},
   "source": [
    "## Question 1: Warm up (3 marks)"
   ]
  },
  {
   "cell_type": "markdown",
   "metadata": {},
   "source": [
    "We use a publicly available dataset available at [UCI archive](https://archive.ics.uci.edu/ml/datasets/AI4I+2020+Predictive+Maintenance+Dataset) of the datasets for machine learning. Since real predictive maintenance datasets are generally difficult to obtain, we use this synthetic but realistic dataset.\n",
    "\n",
    "We have downloaded the dataset for you. It is available in *Assignment_3* under files in the LumiNUS. \n",
    "\n",
    "- Create a single dataframe in `pandas` by reading the dataset from the CSV file and using **UDI** to be the index column\n",
    "- Print the names of the columns and total number of datapoints. Check for the existence of *NaN*s!\n",
    "\n",
    "<div align=\"right\"> (1 points) </div>"
   ]
  },
  {
   "cell_type": "code",
   "execution_count": 17,
   "metadata": {},
   "outputs": [
    {
     "name": "stdout",
     "output_type": "stream",
     "text": [
      "Column names:\n",
      "Index(['Product ID', 'Type', 'Air temperature [K]', 'Process temperature [K]',\n",
      "       'Rotational speed [rpm]', 'Torque [Nm]', 'Tool wear [min]',\n",
      "       'Machine failure', 'TWF', 'HDF', 'PWF', 'OSF', 'RNF'],\n",
      "      dtype='object')\n",
      "Total number of datapoints: 10000\n",
      "No NaNs found in the dataset.\n"
     ]
    }
   ],
   "source": [
    "df = pd.read_csv(\"ai4i2020.csv\", index_col=\"UDI\")\n",
    "\n",
    "# Print the names of the columns\n",
    "print(\"Column names:\")\n",
    "print(df.columns)\n",
    "\n",
    "# Print the total number of datapoints\n",
    "print(\"Total number of datapoints:\", len(df))\n",
    "\n",
    "# Check for the existence of NaNs\n",
    "if df.isnull().values.any():\n",
    "    print(\"NaNs exist in the dataset.\")\n",
    "else:\n",
    "    print(\"No NaNs found in the dataset.\")"
   ]
  },
  {
   "cell_type": "markdown",
   "metadata": {},
   "source": [
    "*Machine failure* column contains the label that signifies if the machine requires maintenance. Use pandas functions to count the number of datapoints with label 0 and label 1. What do you observe?\n",
    "\n",
    "<div align=\"right\"> (2 points) </div>"
   ]
  },
  {
   "cell_type": "code",
   "execution_count": 18,
   "metadata": {},
   "outputs": [
    {
     "name": "stdout",
     "output_type": "stream",
     "text": [
      "Count of datapoints for each label in the 'Machine failure' column:\n",
      "Machine failure\n",
      "0    9661\n",
      "1     339\n",
      "Name: count, dtype: int64\n",
      "\n",
      "Observation:\n",
      "If the count of label 1 is significantly lower than that of label 0, it indicates that instances of machine failure are less common in the dataset. This could mean the dataset is imbalanced, which is common in maintenance data, as failures tend to be rare events. An imbalanced dataset might require specific handling or modeling techniques to accurately predict machine failures.\n"
     ]
    }
   ],
   "source": [
    "# Assuming 'Machine failure' is the column name that contains the labels\n",
    "label_counts = df['Machine failure'].value_counts()\n",
    "\n",
    "# Print the count of datapoints for each label\n",
    "print(\"Count of datapoints for each label in the 'Machine failure' column:\")\n",
    "print(label_counts)\n",
    "\n",
    "\n",
    "print(\"\\nObservation:\")\n",
    "print(\"If the count of label 1 is significantly lower than that of label 0, it indicates that instances of machine failure are less common in the dataset. This could mean the dataset is imbalanced, which is common in maintenance data, as failures tend to be rare events. An imbalanced dataset might require specific handling or modeling techniques to accurately predict machine failures.\")\n"
   ]
  },
  {
   "cell_type": "markdown",
   "metadata": {},
   "source": [
    "The first step is to split the available dataset into training and testing sets. Let's split  `df` into two dataframes `df_train` and `df_test` as a 80-20 split."
   ]
  },
  {
   "cell_type": "code",
   "execution_count": 19,
   "metadata": {},
   "outputs": [],
   "source": [
    "from sklearn.model_selection import train_test_split\n",
    "\n",
    "\n",
    "df_train, df_test = train_test_split(df, test_size=0.20, random_state = rng)"
   ]
  },
  {
   "cell_type": "markdown",
   "metadata": {},
   "source": [
    "## Question 2: Data Pipeline (5 Marks)"
   ]
  },
  {
   "cell_type": "markdown",
   "metadata": {},
   "source": [
    "`sklearn - Pipeline` allows to write various data processing steps in a flexible and modular manner. Please read more about them [here](https://scikit-learn.org/stable/modules/compose.html). The website also provides plenty short examples to understand the pipeline."
   ]
  },
  {
   "cell_type": "code",
   "execution_count": 20,
   "metadata": {},
   "outputs": [],
   "source": [
    "from sklearn.pipeline import Pipeline"
   ]
  },
  {
   "cell_type": "markdown",
   "metadata": {},
   "source": [
    "Write a pipeline that performs following tasks.\n",
    "- Selects *Type, Air temperature [K], Process temperature [K], Rotational speed [rpm], Torque [Nm], Tool wear [min]* columns.\n",
    "- Encodes *Type* using Ordinal Encoding (e.g. {L:1, M:2, H:3})\n",
    "\n",
    "The output `X` after transformation is shown below.\n",
    "\n",
    "<div align=\"right\"> (5 points) </div>"
   ]
  },
  {
   "cell_type": "code",
   "execution_count": 21,
   "metadata": {},
   "outputs": [],
   "source": [
    "from sklearn.compose import ColumnTransformer\n",
    "from sklearn.preprocessing import OrdinalEncoder\n",
    "from sklearn.base import BaseEstimator, TransformerMixin\n",
    "\n",
    "# Assuming \"Type\" is the column to be ordinally encoded and the rest are numerical features you want to select.\n",
    "features_to_select = ['Air temperature [K]', 'Process temperature [K]', 'Rotational speed [rpm]', 'Torque [Nm]', 'Tool wear [min]']\n",
    "\n",
    "\n",
    "class ColumnSelector(BaseEstimator, TransformerMixin):\n",
    "    def __init__(self, columns):\n",
    "        self.columns = columns\n",
    "    \n",
    "    def fit(self, X, y=None):\n",
    "        return self  # Nothing to fit\n",
    "    \n",
    "    def transform(self, X):\n",
    "        return X[self.columns]\n",
    "\n",
    "\n",
    "preprocess = Pipeline([\n",
    "    ('selector', ColumnSelector(columns=['Type'] + features_to_select)),\n",
    "    ('encoder', ColumnTransformer([\n",
    "        ('ordinal_encoder', OrdinalEncoder(categories=[['L', 'M', 'H']]), ['Type']),\n",
    "    ], remainder='passthrough'))  # Apply ordinal encoding to 'Type' and pass through other columns\n",
    "])\n",
    "\n",
    "\n",
    "X_train_transformed = preprocess.fit_transform(df_train)\n"
   ]
  },
  {
   "cell_type": "markdown",
   "metadata": {},
   "source": [
    "## Question 3: Decision Tree Classifier (6 points)\n",
    "\n",
    "In this question we will build a simple Decision Tree classifier on the available data."
   ]
  },
  {
   "cell_type": "code",
   "execution_count": 22,
   "metadata": {},
   "outputs": [],
   "source": [
    "from sklearn.tree import DecisionTreeClassifier\n",
    "from sklearn import tree "
   ]
  },
  {
   "cell_type": "markdown",
   "metadata": {},
   "source": [
    "Now let's use the data-preprocessing pipeline that we have defined in the earlier question. Ensure your `preprocess` is functional before you proceed."
   ]
  },
  {
   "cell_type": "code",
   "execution_count": 23,
   "metadata": {},
   "outputs": [],
   "source": [
    "X_train = preprocess.fit_transform(df_train)\n",
    "X_test = preprocess.transform(df_test)\n",
    "Y_train = df_train['Machine failure']\n",
    "Y_test = df_test['Machine failure'] "
   ]
  },
  {
   "cell_type": "markdown",
   "metadata": {},
   "source": [
    "Fit a decision tree classifier on the training data. The tree must use the random state that we have defined earlier. The tree should be fit with the following parameter specification: `max_depth=4` and `max_leaf_nodes=5`.\n",
    "\n",
    "<div align=\"right\"> (1 point) </div>"
   ]
  },
  {
   "cell_type": "code",
   "execution_count": 24,
   "metadata": {},
   "outputs": [
    {
     "data": {
      "text/html": [
       "<style>#sk-container-id-2 {color: black;}#sk-container-id-2 pre{padding: 0;}#sk-container-id-2 div.sk-toggleable {background-color: white;}#sk-container-id-2 label.sk-toggleable__label {cursor: pointer;display: block;width: 100%;margin-bottom: 0;padding: 0.3em;box-sizing: border-box;text-align: center;}#sk-container-id-2 label.sk-toggleable__label-arrow:before {content: \"▸\";float: left;margin-right: 0.25em;color: #696969;}#sk-container-id-2 label.sk-toggleable__label-arrow:hover:before {color: black;}#sk-container-id-2 div.sk-estimator:hover label.sk-toggleable__label-arrow:before {color: black;}#sk-container-id-2 div.sk-toggleable__content {max-height: 0;max-width: 0;overflow: hidden;text-align: left;background-color: #f0f8ff;}#sk-container-id-2 div.sk-toggleable__content pre {margin: 0.2em;color: black;border-radius: 0.25em;background-color: #f0f8ff;}#sk-container-id-2 input.sk-toggleable__control:checked~div.sk-toggleable__content {max-height: 200px;max-width: 100%;overflow: auto;}#sk-container-id-2 input.sk-toggleable__control:checked~label.sk-toggleable__label-arrow:before {content: \"▾\";}#sk-container-id-2 div.sk-estimator input.sk-toggleable__control:checked~label.sk-toggleable__label {background-color: #d4ebff;}#sk-container-id-2 div.sk-label input.sk-toggleable__control:checked~label.sk-toggleable__label {background-color: #d4ebff;}#sk-container-id-2 input.sk-hidden--visually {border: 0;clip: rect(1px 1px 1px 1px);clip: rect(1px, 1px, 1px, 1px);height: 1px;margin: -1px;overflow: hidden;padding: 0;position: absolute;width: 1px;}#sk-container-id-2 div.sk-estimator {font-family: monospace;background-color: #f0f8ff;border: 1px dotted black;border-radius: 0.25em;box-sizing: border-box;margin-bottom: 0.5em;}#sk-container-id-2 div.sk-estimator:hover {background-color: #d4ebff;}#sk-container-id-2 div.sk-parallel-item::after {content: \"\";width: 100%;border-bottom: 1px solid gray;flex-grow: 1;}#sk-container-id-2 div.sk-label:hover label.sk-toggleable__label {background-color: #d4ebff;}#sk-container-id-2 div.sk-serial::before {content: \"\";position: absolute;border-left: 1px solid gray;box-sizing: border-box;top: 0;bottom: 0;left: 50%;z-index: 0;}#sk-container-id-2 div.sk-serial {display: flex;flex-direction: column;align-items: center;background-color: white;padding-right: 0.2em;padding-left: 0.2em;position: relative;}#sk-container-id-2 div.sk-item {position: relative;z-index: 1;}#sk-container-id-2 div.sk-parallel {display: flex;align-items: stretch;justify-content: center;background-color: white;position: relative;}#sk-container-id-2 div.sk-item::before, #sk-container-id-2 div.sk-parallel-item::before {content: \"\";position: absolute;border-left: 1px solid gray;box-sizing: border-box;top: 0;bottom: 0;left: 50%;z-index: -1;}#sk-container-id-2 div.sk-parallel-item {display: flex;flex-direction: column;z-index: 1;position: relative;background-color: white;}#sk-container-id-2 div.sk-parallel-item:first-child::after {align-self: flex-end;width: 50%;}#sk-container-id-2 div.sk-parallel-item:last-child::after {align-self: flex-start;width: 50%;}#sk-container-id-2 div.sk-parallel-item:only-child::after {width: 0;}#sk-container-id-2 div.sk-dashed-wrapped {border: 1px dashed gray;margin: 0 0.4em 0.5em 0.4em;box-sizing: border-box;padding-bottom: 0.4em;background-color: white;}#sk-container-id-2 div.sk-label label {font-family: monospace;font-weight: bold;display: inline-block;line-height: 1.2em;}#sk-container-id-2 div.sk-label-container {text-align: center;}#sk-container-id-2 div.sk-container {/* jupyter's `normalize.less` sets `[hidden] { display: none; }` but bootstrap.min.css set `[hidden] { display: none !important; }` so we also need the `!important` here to be able to override the default hidden behavior on the sphinx rendered scikit-learn.org. See: https://github.com/scikit-learn/scikit-learn/issues/21755 */display: inline-block !important;position: relative;}#sk-container-id-2 div.sk-text-repr-fallback {display: none;}</style><div id=\"sk-container-id-2\" class=\"sk-top-container\"><div class=\"sk-text-repr-fallback\"><pre>DecisionTreeClassifier(max_depth=4, max_leaf_nodes=5,\n",
       "                       random_state=RandomState(MT19937) at 0x1EC6FB63440)</pre><b>In a Jupyter environment, please rerun this cell to show the HTML representation or trust the notebook. <br />On GitHub, the HTML representation is unable to render, please try loading this page with nbviewer.org.</b></div><div class=\"sk-container\" hidden><div class=\"sk-item\"><div class=\"sk-estimator sk-toggleable\"><input class=\"sk-toggleable__control sk-hidden--visually\" id=\"sk-estimator-id-2\" type=\"checkbox\" checked><label for=\"sk-estimator-id-2\" class=\"sk-toggleable__label sk-toggleable__label-arrow\">DecisionTreeClassifier</label><div class=\"sk-toggleable__content\"><pre>DecisionTreeClassifier(max_depth=4, max_leaf_nodes=5,\n",
       "                       random_state=RandomState(MT19937) at 0x1EC6FB63440)</pre></div></div></div></div></div>"
      ],
      "text/plain": [
       "DecisionTreeClassifier(max_depth=4, max_leaf_nodes=5,\n",
       "                       random_state=RandomState(MT19937) at 0x1EC6FB63440)"
      ]
     },
     "execution_count": 24,
     "metadata": {},
     "output_type": "execute_result"
    }
   ],
   "source": [
    "tree_clf = DecisionTreeClassifier(max_depth=4, max_leaf_nodes=5, random_state=rng)\n",
    "\n",
    "\n",
    "tree_clf.fit(X_train, Y_train)\n"
   ]
  },
  {
   "cell_type": "markdown",
   "metadata": {},
   "source": [
    "Report accuracy as well as F1 score on the training dataset as well as testing dataset.\n",
    "\n",
    "<div align=\"right\"> (2 points) </div>"
   ]
  },
  {
   "cell_type": "code",
   "execution_count": 25,
   "metadata": {},
   "outputs": [
    {
     "name": "stdout",
     "output_type": "stream",
     "text": [
      "Training Accuracy: 0.972125\n",
      "Training F1 Score: 0.36827195467422097\n",
      "Testing Accuracy: 0.9755\n",
      "Testing F1 Score: 0.39506172839506176\n"
     ]
    }
   ],
   "source": [
    "from sklearn.metrics import accuracy_score, f1_score\n",
    "\n",
    "# Predict labels for the training and testing data\n",
    "train_predictions = tree_clf.predict(X_train)\n",
    "test_predictions = tree_clf.predict(X_test)\n",
    "\n",
    "# Calculate accuracy and F1 score for the training set\n",
    "train_accuracy = accuracy_score(Y_train, train_predictions)\n",
    "train_f1_score = f1_score(Y_train, train_predictions)\n",
    "\n",
    "# Calculate accuracy and F1 score for the testing set\n",
    "test_accuracy = accuracy_score(df_test['Machine failure'], test_predictions)\n",
    "test_f1_score = f1_score(df_test['Machine failure'], test_predictions)\n",
    "\n",
    "# Print the results\n",
    "print(\"Training Accuracy:\", train_accuracy)\n",
    "print(\"Training F1 Score:\", train_f1_score)\n",
    "print(\"Testing Accuracy:\", test_accuracy)\n",
    "print(\"Testing F1 Score:\", test_f1_score)\n",
    "\n"
   ]
  },
  {
   "cell_type": "markdown",
   "metadata": {},
   "source": [
    "What do you observe from the result?\n",
    "<div align=\"right\"> (1 point) </div>"
   ]
  },
  {
   "cell_type": "markdown",
   "metadata": {},
   "source": [
    "The results show high accuracy on both training (97.21%) and testing (97.55%) datasets, indicating effective generalization. However, the F1 scores are relatively low (training: 36.83%, testing: 39.51%), suggesting the model struggles with precisely identifying the positive class in a likely imbalanced dataset. This discrepancy between accuracy and F1 score highlights the model's bias towards the majority class, underlining the importance of using balanced metrics in evaluating performance on imbalanced datasets."
   ]
  },
  {
   "cell_type": "markdown",
   "metadata": {},
   "source": [
    "Following code provides visualisation of the decision tree."
   ]
  },
  {
   "cell_type": "code",
   "execution_count": 26,
   "metadata": {},
   "outputs": [
    {
     "ename": "AttributeError",
     "evalue": "'numpy.ndarray' object has no attribute 'columns'",
     "output_type": "error",
     "traceback": [
      "\u001b[1;31m---------------------------------------------------------------------------\u001b[0m",
      "\u001b[1;31mAttributeError\u001b[0m                            Traceback (most recent call last)",
      "Cell \u001b[1;32mIn[26], line 2\u001b[0m\n\u001b[0;32m      1\u001b[0m fig, ax \u001b[38;5;241m=\u001b[39m plt\u001b[38;5;241m.\u001b[39msubplots(figsize\u001b[38;5;241m=\u001b[39m(\u001b[38;5;241m15\u001b[39m,\u001b[38;5;241m15\u001b[39m))\n\u001b[1;32m----> 2\u001b[0m tree\u001b[38;5;241m.\u001b[39mplot_tree(tree_clf, feature_names\u001b[38;5;241m=\u001b[39m\u001b[43mX_train\u001b[49m\u001b[38;5;241;43m.\u001b[39;49m\u001b[43mcolumns\u001b[49m,\n\u001b[0;32m      3\u001b[0m                filled\u001b[38;5;241m=\u001b[39m\u001b[38;5;28;01mTrue\u001b[39;00m, node_ids\u001b[38;5;241m=\u001b[39m\u001b[38;5;28;01mTrue\u001b[39;00m, ax\u001b[38;5;241m=\u001b[39max)\n",
      "\u001b[1;31mAttributeError\u001b[0m: 'numpy.ndarray' object has no attribute 'columns'"
     ]
    },
    {
     "data": {
      "image/png": "[encoded data removed]",
      "text/plain": [
       "<Figure size 1500x1500 with 1 Axes>"
      ]
     },
     "metadata": {},
     "output_type": "display_data"
    }
   ],
   "source": [
    "fig, ax = plt.subplots(figsize=(15,15))\n",
    "tree.plot_tree(tree_clf, feature_names=X_train.columns,\n",
    "               filled=True, node_ids=True, ax=ax)"
   ]
  },
  {
   "cell_type": "markdown",
   "metadata": {},
   "source": [
    "Produce a bar plot of the features against their importance towards the prediction.\n",
    "\n",
    "*Hint. Read about `feature importance` in the decision trees.*\n",
    "\n",
    "<div align=\"right\"> (1 point) </div>"
   ]
  },
  {
   "cell_type": "code",
   "execution_count": null,
   "metadata": {},
   "outputs": [],
   "source": [
    "\n",
    "feature_names = ['Type', 'Air temperature [K]', 'Process temperature [K]', 'Rotational speed [rpm]', 'Torque [Nm]', 'Tool wear [min]']\n",
    "\n",
    "feature_importance = tree_clf.feature_importances_\n",
    "\n",
    "# Plotting feature importance\n",
    "fig, ax = plt.subplots(figsize=(10, 6))\n",
    "ax.barh(feature_names, feature_importance)\n",
    "ax.set_xlabel('Importance')\n",
    "ax.set_ylabel('Feature')\n",
    "ax.set_title('Feature Importance in Decision Tree Classifier')\n",
    "\n",
    "plt.show()\n",
    "\n"
   ]
  },
  {
   "cell_type": "markdown",
   "metadata": {},
   "source": [
    "What are the top-3 important featues in the data?\n",
    "\n",
    "<div align=\"right\"> (1 point) </div>"
   ]
  },
  {
   "cell_type": "markdown",
   "metadata": {},
   "source": [
    "Torque, Air temperature and Rotational speed"
   ]
  },
  {
   "cell_type": "markdown",
   "metadata": {},
   "source": [
    "## Question 4: Model Validation (6 points)"
   ]
  },
  {
   "cell_type": "markdown",
   "metadata": {},
   "source": [
    "In the earlier question, we saw that the decision tree not only gave good results but also the interpretable inights into the features. We worked on a specific train-test split. How certain are you that this would work for other splits?\n",
    "\n",
    "We can assess the performance by conducting a cross-validation experiment. Following code runs a 5-fold cross validation on the decision tree model."
   ]
  },
  {
   "cell_type": "code",
   "execution_count": 27,
   "metadata": {},
   "outputs": [
    {
     "name": "stdout",
     "output_type": "stream",
     "text": [
      "[0.972  0.968  0.542  0.9605 0.968 ]\n"
     ]
    }
   ],
   "source": [
    "from sklearn.model_selection import cross_val_score\n",
    "\n",
    "X = preprocess.fit_transform(df)\n",
    "y = df['Machine failure']\n",
    "scores = cross_val_score(tree_clf, X, y, cv=5)\n",
    "print(scores)"
   ]
  },
  {
   "cell_type": "markdown",
   "metadata": {},
   "source": [
    "You will observe (fingers crossed!) that some times the accuracy of the model drastically drops. Explain the reasons behind the observation. Do you think decision trees are overfitting?\n",
    "\n",
    "<div align=\"right\"> (2 points) </div>"
   ]
  },
  {
   "cell_type": "markdown",
   "metadata": {},
   "source": [
    "The cross-validation scores indicate significant variability in model performance across different splits, with one fold showing a drastically lower accuracy (54.2%). This variability suggests that the model's performance is highly sensitive to the specific samples included in the training and validation sets. Such behavior can indicate overfitting, where the model captures noise or patterns specific to the training data that do not generalize well to unseen data. The drop in accuracy for one fold suggests the presence of data subsets that are significantly different from the rest, highlighting the importance of model robustness and generalization over fitting to specific data characteristics.tting."
   ]
  },
  {
   "cell_type": "markdown",
   "metadata": {},
   "source": [
    "State a solution to solve the problem you've identified.\n",
    "\n",
    "<div align=\"right\"> (1 point) </div>"
   ]
  },
  {
   "cell_type": "markdown",
   "metadata": {},
   "source": [
    "To address overfitting and improve model generalization, especially given the observed variability in cross-validation scores, consider the following solution:\r\n",
    "\r\n",
    "Ensemble Methods: Utilize ensemble techniques like Random Forest or Gradient Boosting. These methods combine multiple decision trees to reduce variance and overfitting, leading to better performance and stability across different data splits. Random Forest, for example, builds many decision trees on various data sample subsets and averages their predictions, effectively reducing overfitting while maintaining the interpretability of decision trees. Gradient Boosting sequentially builds trees that correct errors of the previous ones, improving accuracy and robustness.idation."
   ]
  },
  {
   "cell_type": "markdown",
   "metadata": {},
   "source": [
    "Implement one of the solutions.\n",
    "\n",
    "<div align=\"right\"> (3 points) </div>"
   ]
  },
  {
   "cell_type": "code",
   "execution_count": 28,
   "metadata": {},
   "outputs": [
    {
     "name": "stdout",
     "output_type": "stream",
     "text": [
      "Random Forest Cross-Validation Scores: [0.9715 0.97   0.5685 0.9695 0.9685]\n"
     ]
    }
   ],
   "source": [
    "from sklearn.ensemble import RandomForestClassifier\n",
    "from sklearn.model_selection import cross_val_score\n",
    "\n",
    "\n",
    "random_forest_clf = RandomForestClassifier(n_estimators=100, max_depth=4, max_leaf_nodes=5, random_state=rng)\n",
    "\n",
    "# Preprocess the entire dataset (X, y preparation)\n",
    "X = preprocess.fit_transform(df)\n",
    "y = df['Machine failure']\n",
    "\n",
    "# Conduct 5-fold cross-validation on the RandomForest model\n",
    "rf_scores = cross_val_score(random_forest_clf, X, y, cv=5)\n",
    "\n",
    "\n",
    "print(\"Random Forest Cross-Validation Scores:\", rf_scores)\n"
   ]
  },
  {
   "cell_type": "markdown",
   "metadata": {},
   "source": [
    "This code replaces the Decision Tree with a Random Forest classifier, maintaining the same max_depth and max_leaf_nodes constraints to keep the comparison fair, but also leveraging the power of multiple trees to achieve better generalization. It then conducts 5-fold cross-validation to evaluate the performance of the Random Forest across different splits of the data.\n",
    "By implementing this solution, we observe more consistent performance across the folds, addressing the variability and potential overfitting problem indicated by the previous experiment with the Decision Tree."
   ]
  }
 ],
 "metadata": {
  "kernelspec": {
   "display_name": "Python 3 (ipykernel)",
   "language": "python",
   "name": "python3"
  },
  "language_info": {
   "codemirror_mode": {
    "name": "ipython",
    "version": 3
   },
   "file_extension": ".py",
   "mimetype": "text/x-python",
   "name": "python",
   "nbconvert_exporter": "python",
   "pygments_lexer": "ipython3",
   "version": "3.10.7"
  }
 },
 "nbformat": 4,
 "nbformat_minor": 4
}
